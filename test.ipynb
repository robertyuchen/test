{
 "cells": [
  {
   "cell_type": "code",
   "execution_count": 141,
   "metadata": {},
   "outputs": [],
   "source": [
    "ivv <- read.table('ivvtab.txt', sep = '\\t', quote = '', comment.char = '', header =TRUE);"
   ]
  },
  {
   "cell_type": "code",
   "execution_count": 142,
   "metadata": {},
   "outputs": [
    {
     "data": {
      "text/html": [
       "<table>\n",
       "<caption>A data.frame: 6 × 4</caption>\n",
       "<thead>\n",
       "\t<tr><th></th><th scope=col>date</th><th scope=col>index</th><th scope=col>nav</th><th scope=col>outstanding</th></tr>\n",
       "\t<tr><th></th><th scope=col>&lt;chr&gt;</th><th scope=col>&lt;dbl&gt;</th><th scope=col>&lt;dbl&gt;</th><th scope=col>&lt;dbl&gt;</th></tr>\n",
       "</thead>\n",
       "<tbody>\n",
       "\t<tr><th scope=row>4970</th><td>2000-05-15</td><td>2007.03</td><td>145.24</td><td> 150000</td></tr>\n",
       "\t<tr><th scope=row>4969</th><td>2000-05-16</td><td>2025.96</td><td>146.60</td><td> 150000</td></tr>\n",
       "\t<tr><th scope=row>4968</th><td>2000-05-17</td><td>2000.94</td><td>144.79</td><td> 150000</td></tr>\n",
       "\t<tr><th scope=row>4967</th><td>2000-05-18</td><td>1986.40</td><td>143.74</td><td> 150000</td></tr>\n",
       "\t<tr><th scope=row>4966</th><td>2000-05-19</td><td>1944.65</td><td>140.73</td><td> 150000</td></tr>\n",
       "\t<tr><th scope=row>4965</th><td>2000-05-22</td><td>1936.04</td><td>140.11</td><td>2650000</td></tr>\n",
       "</tbody>\n",
       "</table>\n"
      ],
      "text/latex": [
       "A data.frame: 6 × 4\n",
       "\\begin{tabular}{r|llll}\n",
       "  & date & index & nav & outstanding\\\\\n",
       "  & <chr> & <dbl> & <dbl> & <dbl>\\\\\n",
       "\\hline\n",
       "\t4970 & 2000-05-15 & 2007.03 & 145.24 &  150000\\\\\n",
       "\t4969 & 2000-05-16 & 2025.96 & 146.60 &  150000\\\\\n",
       "\t4968 & 2000-05-17 & 2000.94 & 144.79 &  150000\\\\\n",
       "\t4967 & 2000-05-18 & 1986.40 & 143.74 &  150000\\\\\n",
       "\t4966 & 2000-05-19 & 1944.65 & 140.73 &  150000\\\\\n",
       "\t4965 & 2000-05-22 & 1936.04 & 140.11 & 2650000\\\\\n",
       "\\end{tabular}\n"
      ],
      "text/markdown": [
       "\n",
       "A data.frame: 6 × 4\n",
       "\n",
       "| <!--/--> | date &lt;chr&gt; | index &lt;dbl&gt; | nav &lt;dbl&gt; | outstanding &lt;dbl&gt; |\n",
       "|---|---|---|---|---|\n",
       "| 4970 | 2000-05-15 | 2007.03 | 145.24 |  150000 |\n",
       "| 4969 | 2000-05-16 | 2025.96 | 146.60 |  150000 |\n",
       "| 4968 | 2000-05-17 | 2000.94 | 144.79 |  150000 |\n",
       "| 4967 | 2000-05-18 | 1986.40 | 143.74 |  150000 |\n",
       "| 4966 | 2000-05-19 | 1944.65 | 140.73 |  150000 |\n",
       "| 4965 | 2000-05-22 | 1936.04 | 140.11 | 2650000 |\n",
       "\n"
      ],
      "text/plain": [
       "     date       index   nav    outstanding\n",
       "4970 2000-05-15 2007.03 145.24  150000    \n",
       "4969 2000-05-16 2025.96 146.60  150000    \n",
       "4968 2000-05-17 2000.94 144.79  150000    \n",
       "4967 2000-05-18 1986.40 143.74  150000    \n",
       "4966 2000-05-19 1944.65 140.73  150000    \n",
       "4965 2000-05-22 1936.04 140.11 2650000    "
      ]
     },
     "metadata": {},
     "output_type": "display_data"
    }
   ],
   "source": [
    "ivv$date <- gsub('\\\"', '', ivv$date);\n",
    "ivv$date <- gsub('Jan', '01', ivv$date);\n",
    "ivv$date <- gsub('Feb', '02', ivv$date);\n",
    "ivv$date <- gsub('Mar', '03', ivv$date);\n",
    "ivv$date <- gsub('Apr', '04', ivv$date);\n",
    "ivv$date <- gsub('May', '05', ivv$date);\n",
    "ivv$date <- gsub('Jun', '06', ivv$date);\n",
    "ivv$date <- gsub('Jul', '07', ivv$date);\n",
    "ivv$date <- gsub('Aug', '08', ivv$date);\n",
    "ivv$date <- gsub('Sep', '09', ivv$date);\n",
    "ivv$date <- gsub('Oct', '10', ivv$date);\n",
    "ivv$date <- gsub('Nov', '11', ivv$date);\n",
    "ivv$date <- gsub('Dec', '12', ivv$date);\n",
    "ivv$date <- as.character(as.Date(ivv$date, '%m %d, %Y'))\n",
    "ivv <- ivv[order(ivv$date, decreasing = FALSE),];\n",
    "head(ivv)"
   ]
  },
  {
   "cell_type": "code",
   "execution_count": 143,
   "metadata": {},
   "outputs": [
    {
     "data": {
      "image/png": "[encoded data removed]",
      "text/plain": [
       "plot without title"
      ]
     },
     "metadata": {
      "image/png": {
       "height": 420,
       "width": 420
      },
      "text/plain": {
       "height": 420,
       "width": 420
      }
     },
     "output_type": "display_data"
    },
    {
     "data": {
      "image/png": "[encoded data removed]",
      "text/plain": [
       "plot without title"
      ]
     },
     "metadata": {
      "image/png": {
       "height": 420,
       "width": 420
      },
      "text/plain": {
       "height": 420,
       "width": 420
      }
     },
     "output_type": "display_data"
    }
   ],
   "source": [
    "plot(as.Date(ivv$date), ivv$nav);\n",
    "plot(as.Date(ivv$date), ivv$outstanding);"
   ]
  },
  {
   "cell_type": "code",
   "execution_count": 144,
   "metadata": {},
   "outputs": [],
   "source": [
    "ivvpx <- read.table('IVV.csv', sep =',', quote = '', comment.char = '', header =T);"
   ]
  },
  {
   "cell_type": "code",
   "execution_count": 145,
   "metadata": {},
   "outputs": [
    {
     "data": {
      "text/html": [
       "<table>\n",
       "<caption>A data.frame: 6 × 10</caption>\n",
       "<thead>\n",
       "\t<tr><th></th><th scope=col>date</th><th scope=col>index</th><th scope=col>nav</th><th scope=col>outstanding</th><th scope=col>open</th><th scope=col>high</th><th scope=col>low</th><th scope=col>close</th><th scope=col>adjClose</th><th scope=col>volume</th></tr>\n",
       "\t<tr><th></th><th scope=col>&lt;chr&gt;</th><th scope=col>&lt;dbl&gt;</th><th scope=col>&lt;dbl&gt;</th><th scope=col>&lt;dbl&gt;</th><th scope=col>&lt;dbl&gt;</th><th scope=col>&lt;dbl&gt;</th><th scope=col>&lt;dbl&gt;</th><th scope=col>&lt;dbl&gt;</th><th scope=col>&lt;dbl&gt;</th><th scope=col>&lt;int&gt;</th></tr>\n",
       "</thead>\n",
       "<tbody>\n",
       "\t<tr><th scope=row>1</th><td>2000-05-19</td><td>1944.65</td><td>140.73</td><td> 150000</td><td>142.6562</td><td>142.6562</td><td>140.2500</td><td>140.6875</td><td>96.70859</td><td> 775500</td></tr>\n",
       "\t<tr><th scope=row>2</th><td>2000-05-22</td><td>1936.04</td><td>140.11</td><td>2650000</td><td>140.5938</td><td>140.5938</td><td>136.8125</td><td>139.8125</td><td>96.10718</td><td>1850600</td></tr>\n",
       "\t<tr><th scope=row>3</th><td>2000-05-23</td><td>1898.94</td><td>137.42</td><td>4650000</td><td>140.2188</td><td>140.2188</td><td>137.6875</td><td>137.6875</td><td>94.64642</td><td> 373900</td></tr>\n",
       "\t<tr><th scope=row>4</th><td>2000-05-24</td><td>1933.85</td><td>139.95</td><td>4650000</td><td>137.7500</td><td>140.0625</td><td>136.6562</td><td>139.7500</td><td>96.06415</td><td> 400300</td></tr>\n",
       "\t<tr><th scope=row>5</th><td>2000-05-25</td><td>1909.67</td><td>138.21</td><td>4650000</td><td>140.0312</td><td>140.9375</td><td>137.8750</td><td>138.4688</td><td>95.18346</td><td>  69600</td></tr>\n",
       "\t<tr><th scope=row>6</th><td>2000-05-26</td><td>1904.98</td><td>137.86</td><td>4650000</td><td>138.4844</td><td>138.7500</td><td>137.0000</td><td>137.8438</td><td>94.75383</td><td> 237000</td></tr>\n",
       "</tbody>\n",
       "</table>\n"
      ],
      "text/latex": [
       "A data.frame: 6 × 10\n",
       "\\begin{tabular}{r|llllllllll}\n",
       "  & date & index & nav & outstanding & open & high & low & close & adjClose & volume\\\\\n",
       "  & <chr> & <dbl> & <dbl> & <dbl> & <dbl> & <dbl> & <dbl> & <dbl> & <dbl> & <int>\\\\\n",
       "\\hline\n",
       "\t1 & 2000-05-19 & 1944.65 & 140.73 &  150000 & 142.6562 & 142.6562 & 140.2500 & 140.6875 & 96.70859 &  775500\\\\\n",
       "\t2 & 2000-05-22 & 1936.04 & 140.11 & 2650000 & 140.5938 & 140.5938 & 136.8125 & 139.8125 & 96.10718 & 1850600\\\\\n",
       "\t3 & 2000-05-23 & 1898.94 & 137.42 & 4650000 & 140.2188 & 140.2188 & 137.6875 & 137.6875 & 94.64642 &  373900\\\\\n",
       "\t4 & 2000-05-24 & 1933.85 & 139.95 & 4650000 & 137.7500 & 140.0625 & 136.6562 & 139.7500 & 96.06415 &  400300\\\\\n",
       "\t5 & 2000-05-25 & 1909.67 & 138.21 & 4650000 & 140.0312 & 140.9375 & 137.8750 & 138.4688 & 95.18346 &   69600\\\\\n",
       "\t6 & 2000-05-26 & 1904.98 & 137.86 & 4650000 & 138.4844 & 138.7500 & 137.0000 & 137.8438 & 94.75383 &  237000\\\\\n",
       "\\end{tabular}\n"
      ],
      "text/markdown": [
       "\n",
       "A data.frame: 6 × 10\n",
       "\n",
       "| <!--/--> | date &lt;chr&gt; | index &lt;dbl&gt; | nav &lt;dbl&gt; | outstanding &lt;dbl&gt; | open &lt;dbl&gt; | high &lt;dbl&gt; | low &lt;dbl&gt; | close &lt;dbl&gt; | adjClose &lt;dbl&gt; | volume &lt;int&gt; |\n",
       "|---|---|---|---|---|---|---|---|---|---|---|\n",
       "| 1 | 2000-05-19 | 1944.65 | 140.73 |  150000 | 142.6562 | 142.6562 | 140.2500 | 140.6875 | 96.70859 |  775500 |\n",
       "| 2 | 2000-05-22 | 1936.04 | 140.11 | 2650000 | 140.5938 | 140.5938 | 136.8125 | 139.8125 | 96.10718 | 1850600 |\n",
       "| 3 | 2000-05-23 | 1898.94 | 137.42 | 4650000 | 140.2188 | 140.2188 | 137.6875 | 137.6875 | 94.64642 |  373900 |\n",
       "| 4 | 2000-05-24 | 1933.85 | 139.95 | 4650000 | 137.7500 | 140.0625 | 136.6562 | 139.7500 | 96.06415 |  400300 |\n",
       "| 5 | 2000-05-25 | 1909.67 | 138.21 | 4650000 | 140.0312 | 140.9375 | 137.8750 | 138.4688 | 95.18346 |   69600 |\n",
       "| 6 | 2000-05-26 | 1904.98 | 137.86 | 4650000 | 138.4844 | 138.7500 | 137.0000 | 137.8438 | 94.75383 |  237000 |\n",
       "\n"
      ],
      "text/plain": [
       "  date       index   nav    outstanding open     high     low      close   \n",
       "1 2000-05-19 1944.65 140.73  150000     142.6562 142.6562 140.2500 140.6875\n",
       "2 2000-05-22 1936.04 140.11 2650000     140.5938 140.5938 136.8125 139.8125\n",
       "3 2000-05-23 1898.94 137.42 4650000     140.2188 140.2188 137.6875 137.6875\n",
       "4 2000-05-24 1933.85 139.95 4650000     137.7500 140.0625 136.6562 139.7500\n",
       "5 2000-05-25 1909.67 138.21 4650000     140.0312 140.9375 137.8750 138.4688\n",
       "6 2000-05-26 1904.98 137.86 4650000     138.4844 138.7500 137.0000 137.8438\n",
       "  adjClose volume \n",
       "1 96.70859  775500\n",
       "2 96.10718 1850600\n",
       "3 94.64642  373900\n",
       "4 96.06415  400300\n",
       "5 95.18346   69600\n",
       "6 94.75383  237000"
      ]
     },
     "metadata": {},
     "output_type": "display_data"
    }
   ],
   "source": [
    "colnames(ivvpx) <- c('date', 'open', 'high', 'low', 'close', 'adjClose', 'volume');\n",
    "ivv <- merge(ivv, ivvpx, by ='date');\n",
    "head(ivv);"
   ]
  },
  {
   "cell_type": "code",
   "execution_count": 146,
   "metadata": {},
   "outputs": [],
   "source": [
    "getDeltaPct <- function(x, d) {\n",
    "    rs <- rep(NA, d);\n",
    "    for(i in (d+1):length(x)) {\n",
    "        rs <- c(rs, (x[i]-x[i-d])/x[i-d]);\n",
    "    }\n",
    "    return(rs)\n",
    "}"
   ]
  },
  {
   "cell_type": "code",
   "execution_count": 158,
   "metadata": {},
   "outputs": [
    {
     "data": {
      "text/html": [
       "<table>\n",
       "<caption>A data.frame: 6 × 14</caption>\n",
       "<thead>\n",
       "\t<tr><th></th><th scope=col>date</th><th scope=col>index</th><th scope=col>nav</th><th scope=col>outstanding</th><th scope=col>open</th><th scope=col>high</th><th scope=col>low</th><th scope=col>close</th><th scope=col>adjClose</th><th scope=col>volume</th><th scope=col>doutPct</th><th scope=col>dclosePct</th><th scope=col>volPct</th><th scope=col>dev</th></tr>\n",
       "\t<tr><th></th><th scope=col>&lt;chr&gt;</th><th scope=col>&lt;dbl&gt;</th><th scope=col>&lt;dbl&gt;</th><th scope=col>&lt;dbl&gt;</th><th scope=col>&lt;dbl&gt;</th><th scope=col>&lt;dbl&gt;</th><th scope=col>&lt;dbl&gt;</th><th scope=col>&lt;dbl&gt;</th><th scope=col>&lt;dbl&gt;</th><th scope=col>&lt;int&gt;</th><th scope=col>&lt;dbl&gt;</th><th scope=col>&lt;dbl&gt;</th><th scope=col>&lt;dbl&gt;</th><th scope=col>&lt;dbl&gt;</th></tr>\n",
       "</thead>\n",
       "<tbody>\n",
       "\t<tr><th scope=row>1</th><td>2000-05-19</td><td>1944.65</td><td>140.73</td><td> 150000</td><td>142.6562</td><td>142.6562</td><td>140.2500</td><td>140.6875</td><td>96.70859</td><td> 775500</td><td>NA</td><td>NA</td><td>         NA</td><td>-0.0003020880</td></tr>\n",
       "\t<tr><th scope=row>2</th><td>2000-05-22</td><td>1936.04</td><td>140.11</td><td>2650000</td><td>140.5938</td><td>140.5938</td><td>136.8125</td><td>139.8125</td><td>96.10718</td><td>1850600</td><td>NA</td><td>NA</td><td>12.33733333</td><td>-0.0021278498</td></tr>\n",
       "\t<tr><th scope=row>3</th><td>2000-05-23</td><td>1898.94</td><td>137.42</td><td>4650000</td><td>140.2188</td><td>140.2188</td><td>137.6875</td><td>137.6875</td><td>94.64642</td><td> 373900</td><td>NA</td><td>NA</td><td> 0.14109434</td><td> 0.0019428053</td></tr>\n",
       "\t<tr><th scope=row>4</th><td>2000-05-24</td><td>1933.85</td><td>139.95</td><td>4650000</td><td>137.7500</td><td>140.0625</td><td>136.6562</td><td>139.7500</td><td>96.06415</td><td> 400300</td><td>NA</td><td>NA</td><td> 0.08608602</td><td>-0.0014311270</td></tr>\n",
       "\t<tr><th scope=row>5</th><td>2000-05-25</td><td>1909.67</td><td>138.21</td><td>4650000</td><td>140.0312</td><td>140.9375</td><td>137.8750</td><td>138.4688</td><td>95.18346</td><td>  69600</td><td>NA</td><td>NA</td><td> 0.01496774</td><td> 0.0018686527</td></tr>\n",
       "\t<tr><th scope=row>6</th><td>2000-05-26</td><td>1904.98</td><td>137.86</td><td>4650000</td><td>138.4844</td><td>138.7500</td><td>137.0000</td><td>137.8438</td><td>94.75383</td><td> 237000</td><td>NA</td><td>NA</td><td> 0.05096774</td><td>-0.0001178871</td></tr>\n",
       "</tbody>\n",
       "</table>\n"
      ],
      "text/latex": [
       "A data.frame: 6 × 14\n",
       "\\begin{tabular}{r|llllllllllllll}\n",
       "  & date & index & nav & outstanding & open & high & low & close & adjClose & volume & doutPct & dclosePct & volPct & dev\\\\\n",
       "  & <chr> & <dbl> & <dbl> & <dbl> & <dbl> & <dbl> & <dbl> & <dbl> & <dbl> & <int> & <dbl> & <dbl> & <dbl> & <dbl>\\\\\n",
       "\\hline\n",
       "\t1 & 2000-05-19 & 1944.65 & 140.73 &  150000 & 142.6562 & 142.6562 & 140.2500 & 140.6875 & 96.70859 &  775500 & NA & NA &          NA & -0.0003020880\\\\\n",
       "\t2 & 2000-05-22 & 1936.04 & 140.11 & 2650000 & 140.5938 & 140.5938 & 136.8125 & 139.8125 & 96.10718 & 1850600 & NA & NA & 12.33733333 & -0.0021278498\\\\\n",
       "\t3 & 2000-05-23 & 1898.94 & 137.42 & 4650000 & 140.2188 & 140.2188 & 137.6875 & 137.6875 & 94.64642 &  373900 & NA & NA &  0.14109434 &  0.0019428053\\\\\n",
       "\t4 & 2000-05-24 & 1933.85 & 139.95 & 4650000 & 137.7500 & 140.0625 & 136.6562 & 139.7500 & 96.06415 &  400300 & NA & NA &  0.08608602 & -0.0014311270\\\\\n",
       "\t5 & 2000-05-25 & 1909.67 & 138.21 & 4650000 & 140.0312 & 140.9375 & 137.8750 & 138.4688 & 95.18346 &   69600 & NA & NA &  0.01496774 &  0.0018686527\\\\\n",
       "\t6 & 2000-05-26 & 1904.98 & 137.86 & 4650000 & 138.4844 & 138.7500 & 137.0000 & 137.8438 & 94.75383 &  237000 & NA & NA &  0.05096774 & -0.0001178871\\\\\n",
       "\\end{tabular}\n"
      ],
      "text/markdown": [
       "\n",
       "A data.frame: 6 × 14\n",
       "\n",
       "| <!--/--> | date &lt;chr&gt; | index &lt;dbl&gt; | nav &lt;dbl&gt; | outstanding &lt;dbl&gt; | open &lt;dbl&gt; | high &lt;dbl&gt; | low &lt;dbl&gt; | close &lt;dbl&gt; | adjClose &lt;dbl&gt; | volume &lt;int&gt; | doutPct &lt;dbl&gt; | dclosePct &lt;dbl&gt; | volPct &lt;dbl&gt; | dev &lt;dbl&gt; |\n",
       "|---|---|---|---|---|---|---|---|---|---|---|---|---|---|---|\n",
       "| 1 | 2000-05-19 | 1944.65 | 140.73 |  150000 | 142.6562 | 142.6562 | 140.2500 | 140.6875 | 96.70859 |  775500 | NA | NA |          NA | -0.0003020880 |\n",
       "| 2 | 2000-05-22 | 1936.04 | 140.11 | 2650000 | 140.5938 | 140.5938 | 136.8125 | 139.8125 | 96.10718 | 1850600 | NA | NA | 12.33733333 | -0.0021278498 |\n",
       "| 3 | 2000-05-23 | 1898.94 | 137.42 | 4650000 | 140.2188 | 140.2188 | 137.6875 | 137.6875 | 94.64642 |  373900 | NA | NA |  0.14109434 |  0.0019428053 |\n",
       "| 4 | 2000-05-24 | 1933.85 | 139.95 | 4650000 | 137.7500 | 140.0625 | 136.6562 | 139.7500 | 96.06415 |  400300 | NA | NA |  0.08608602 | -0.0014311270 |\n",
       "| 5 | 2000-05-25 | 1909.67 | 138.21 | 4650000 | 140.0312 | 140.9375 | 137.8750 | 138.4688 | 95.18346 |   69600 | NA | NA |  0.01496774 |  0.0018686527 |\n",
       "| 6 | 2000-05-26 | 1904.98 | 137.86 | 4650000 | 138.4844 | 138.7500 | 137.0000 | 137.8438 | 94.75383 |  237000 | NA | NA |  0.05096774 | -0.0001178871 |\n",
       "\n"
      ],
      "text/plain": [
       "  date       index   nav    outstanding open     high     low      close   \n",
       "1 2000-05-19 1944.65 140.73  150000     142.6562 142.6562 140.2500 140.6875\n",
       "2 2000-05-22 1936.04 140.11 2650000     140.5938 140.5938 136.8125 139.8125\n",
       "3 2000-05-23 1898.94 137.42 4650000     140.2188 140.2188 137.6875 137.6875\n",
       "4 2000-05-24 1933.85 139.95 4650000     137.7500 140.0625 136.6562 139.7500\n",
       "5 2000-05-25 1909.67 138.21 4650000     140.0312 140.9375 137.8750 138.4688\n",
       "6 2000-05-26 1904.98 137.86 4650000     138.4844 138.7500 137.0000 137.8438\n",
       "  adjClose volume  doutPct dclosePct volPct      dev          \n",
       "1 96.70859  775500 NA      NA                 NA -0.0003020880\n",
       "2 96.10718 1850600 NA      NA        12.33733333 -0.0021278498\n",
       "3 94.64642  373900 NA      NA         0.14109434  0.0019428053\n",
       "4 96.06415  400300 NA      NA         0.08608602 -0.0014311270\n",
       "5 95.18346   69600 NA      NA         0.01496774  0.0018686527\n",
       "6 94.75383  237000 NA      NA         0.05096774 -0.0001178871"
      ]
     },
     "metadata": {},
     "output_type": "display_data"
    },
    {
     "data": {
      "text/plain": [
       "     date               index           nav          outstanding       \n",
       " Length:4966        Min.   :1095   Min.   : 68.24   Min.   :   150000  \n",
       " Class :character   1st Qu.:1756   1st Qu.:115.22   1st Qu.:108100000  \n",
       " Mode  :character   Median :2164   Median :136.13   Median :195025000  \n",
       "                    Mean   :2756   Mean   :159.63   Mean   :227660028  \n",
       "                    3rd Qu.:3708   3rd Qu.:202.38   3rd Qu.:331237500  \n",
       "                    Max.   :6873   Max.   :339.18   Max.   :653050000  \n",
       "                                                                       \n",
       "      open             high             low             close       \n",
       " Min.   : 68.16   Min.   : 70.13   Min.   : 67.22   Min.   : 68.19  \n",
       " 1st Qu.:115.29   1st Qu.:116.01   1st Qu.:114.41   1st Qu.:115.30  \n",
       " Median :135.99   Median :136.85   Median :135.10   Median :136.01  \n",
       " Mean   :159.63   Mean   :160.46   Mean   :158.69   Mean   :159.63  \n",
       " 3rd Qu.:202.56   3rd Qu.:203.43   3rd Qu.:201.18   3rd Qu.:202.40  \n",
       " Max.   :339.00   Max.   :339.68   Max.   :337.98   Max.   :339.07  \n",
       "                                                                    \n",
       "    adjClose          volume            doutPct            dclosePct        \n",
       " Min.   : 54.38   Min.   :    6500   Min.   :-0.883961   Min.   :-0.246045  \n",
       " 1st Qu.: 87.29   1st Qu.:  721450   1st Qu.:-0.002866   1st Qu.:-0.012999  \n",
       " Median :107.38   Median : 2605150   Median : 0.005659   Median : 0.005414  \n",
       " Mean   :136.50   Mean   : 2883570   Mean   : 0.017937   Mean   : 0.002265  \n",
       " 3rd Qu.:183.46   3rd Qu.: 4052475   3rd Qu.: 0.017334   3rd Qu.: 0.020154  \n",
       " Max.   :339.07   Max.   :38748500   Max.   :24.666667   Max.   : 0.217774  \n",
       "                                     NA's   :10          NA's   :10         \n",
       "     volPct               dev            \n",
       " Min.   : 0.000263   Min.   :-2.229e-02  \n",
       " 1st Qu.: 0.006131   1st Qu.:-3.282e-04  \n",
       " Median : 0.010243   Median : 4.073e-05  \n",
       " Mean   : 0.016888   Mean   : 3.016e-05  \n",
       " 3rd Qu.: 0.017348   3rd Qu.: 3.812e-04  \n",
       " Max.   :12.337333   Max.   : 1.508e-02  \n",
       " NA's   :1                               "
      ]
     },
     "metadata": {},
     "output_type": "display_data"
    }
   ],
   "source": [
    "delay <- 10;\n",
    "ivv$doutPct <- getDeltaPct(ivv$outstanding, delay);\n",
    "# proxy to buy-sell imblance\n",
    "ivv$dclosePct <- getDeltaPct(ivv$close, delay);\n",
    "ivv$volPct <- c(NA, ivv$volume[2:nrow(ivv)]/ivv$outstanding[1:(nrow(ivv)-1)]);\n",
    "# arb flow\n",
    "ivv$dev <- (ivv$close-ivv$nav)/ivv$close;\n",
    "head(ivv)\n",
    "summary(ivv)"
   ]
  },
  {
   "cell_type": "code",
   "execution_count": 159,
   "metadata": {},
   "outputs": [
    {
     "data": {
      "text/html": [
       "<table>\n",
       "<caption>A data.frame: 6 × 7</caption>\n",
       "<thead>\n",
       "\t<tr><th></th><th scope=col>date</th><th scope=col>msftOpen</th><th scope=col>msftHigh</th><th scope=col>msftLow</th><th scope=col>msftClose</th><th scope=col>msftAdjClose</th><th scope=col>msftVolume</th></tr>\n",
       "\t<tr><th></th><th scope=col>&lt;fct&gt;</th><th scope=col>&lt;dbl&gt;</th><th scope=col>&lt;dbl&gt;</th><th scope=col>&lt;dbl&gt;</th><th scope=col>&lt;dbl&gt;</th><th scope=col>&lt;dbl&gt;</th><th scope=col>&lt;int&gt;</th></tr>\n",
       "</thead>\n",
       "<tbody>\n",
       "\t<tr><th scope=row>1</th><td>1986-03-13</td><td>0.088542</td><td>0.101563</td><td>0.088542</td><td>0.097222</td><td>0.062549</td><td>1031788800</td></tr>\n",
       "\t<tr><th scope=row>2</th><td>1986-03-14</td><td>0.097222</td><td>0.102431</td><td>0.097222</td><td>0.100694</td><td>0.064783</td><td> 308160000</td></tr>\n",
       "\t<tr><th scope=row>3</th><td>1986-03-17</td><td>0.100694</td><td>0.103299</td><td>0.100694</td><td>0.102431</td><td>0.065899</td><td> 133171200</td></tr>\n",
       "\t<tr><th scope=row>4</th><td>1986-03-18</td><td>0.102431</td><td>0.103299</td><td>0.098958</td><td>0.099826</td><td>0.064224</td><td>  67766400</td></tr>\n",
       "\t<tr><th scope=row>5</th><td>1986-03-19</td><td>0.099826</td><td>0.100694</td><td>0.097222</td><td>0.098090</td><td>0.063107</td><td>  47894400</td></tr>\n",
       "\t<tr><th scope=row>6</th><td>1986-03-20</td><td>0.098090</td><td>0.098090</td><td>0.094618</td><td>0.095486</td><td>0.061432</td><td>  58435200</td></tr>\n",
       "</tbody>\n",
       "</table>\n"
      ],
      "text/latex": [
       "A data.frame: 6 × 7\n",
       "\\begin{tabular}{r|lllllll}\n",
       "  & date & msftOpen & msftHigh & msftLow & msftClose & msftAdjClose & msftVolume\\\\\n",
       "  & <fct> & <dbl> & <dbl> & <dbl> & <dbl> & <dbl> & <int>\\\\\n",
       "\\hline\n",
       "\t1 & 1986-03-13 & 0.088542 & 0.101563 & 0.088542 & 0.097222 & 0.062549 & 1031788800\\\\\n",
       "\t2 & 1986-03-14 & 0.097222 & 0.102431 & 0.097222 & 0.100694 & 0.064783 &  308160000\\\\\n",
       "\t3 & 1986-03-17 & 0.100694 & 0.103299 & 0.100694 & 0.102431 & 0.065899 &  133171200\\\\\n",
       "\t4 & 1986-03-18 & 0.102431 & 0.103299 & 0.098958 & 0.099826 & 0.064224 &   67766400\\\\\n",
       "\t5 & 1986-03-19 & 0.099826 & 0.100694 & 0.097222 & 0.098090 & 0.063107 &   47894400\\\\\n",
       "\t6 & 1986-03-20 & 0.098090 & 0.098090 & 0.094618 & 0.095486 & 0.061432 &   58435200\\\\\n",
       "\\end{tabular}\n"
      ],
      "text/markdown": [
       "\n",
       "A data.frame: 6 × 7\n",
       "\n",
       "| <!--/--> | date &lt;fct&gt; | msftOpen &lt;dbl&gt; | msftHigh &lt;dbl&gt; | msftLow &lt;dbl&gt; | msftClose &lt;dbl&gt; | msftAdjClose &lt;dbl&gt; | msftVolume &lt;int&gt; |\n",
       "|---|---|---|---|---|---|---|---|\n",
       "| 1 | 1986-03-13 | 0.088542 | 0.101563 | 0.088542 | 0.097222 | 0.062549 | 1031788800 |\n",
       "| 2 | 1986-03-14 | 0.097222 | 0.102431 | 0.097222 | 0.100694 | 0.064783 |  308160000 |\n",
       "| 3 | 1986-03-17 | 0.100694 | 0.103299 | 0.100694 | 0.102431 | 0.065899 |  133171200 |\n",
       "| 4 | 1986-03-18 | 0.102431 | 0.103299 | 0.098958 | 0.099826 | 0.064224 |   67766400 |\n",
       "| 5 | 1986-03-19 | 0.099826 | 0.100694 | 0.097222 | 0.098090 | 0.063107 |   47894400 |\n",
       "| 6 | 1986-03-20 | 0.098090 | 0.098090 | 0.094618 | 0.095486 | 0.061432 |   58435200 |\n",
       "\n"
      ],
      "text/plain": [
       "  date       msftOpen msftHigh msftLow  msftClose msftAdjClose msftVolume\n",
       "1 1986-03-13 0.088542 0.101563 0.088542 0.097222  0.062549     1031788800\n",
       "2 1986-03-14 0.097222 0.102431 0.097222 0.100694  0.064783      308160000\n",
       "3 1986-03-17 0.100694 0.103299 0.100694 0.102431  0.065899      133171200\n",
       "4 1986-03-18 0.102431 0.103299 0.098958 0.099826  0.064224       67766400\n",
       "5 1986-03-19 0.099826 0.100694 0.097222 0.098090  0.063107       47894400\n",
       "6 1986-03-20 0.098090 0.098090 0.094618 0.095486  0.061432       58435200"
      ]
     },
     "metadata": {},
     "output_type": "display_data"
    },
    {
     "data": {
      "image/png": "[encoded data removed]",
      "text/plain": [
       "plot without title"
      ]
     },
     "metadata": {
      "image/png": {
       "height": 420,
       "width": 420
      },
      "text/plain": {
       "height": 420,
       "width": 420
      }
     },
     "output_type": "display_data"
    }
   ],
   "source": [
    "msft <- read.table('MSFT.csv', sep = ',', quote = '', comment.char = '', header =TRUE);\n",
    "colnames(msft) <- c('date', 'msftOpen', 'msftHigh', 'msftLow', 'msftClose', 'msftAdjClose', 'msftVolume');\n",
    "plot(as.Date(msft$date), msft$msftClose);\n",
    "head(msft);"
   ]
  },
  {
   "cell_type": "code",
   "execution_count": 160,
   "metadata": {},
   "outputs": [
    {
     "data": {
      "text/html": [
       "<table>\n",
       "<caption>A data.frame: 6 × 8</caption>\n",
       "<thead>\n",
       "\t<tr><th></th><th scope=col>date</th><th scope=col>msftOpen</th><th scope=col>msftHigh</th><th scope=col>msftLow</th><th scope=col>msftClose</th><th scope=col>msftAdjClose</th><th scope=col>msftVolume</th><th scope=col>logr</th></tr>\n",
       "\t<tr><th></th><th scope=col>&lt;fct&gt;</th><th scope=col>&lt;dbl&gt;</th><th scope=col>&lt;dbl&gt;</th><th scope=col>&lt;dbl&gt;</th><th scope=col>&lt;dbl&gt;</th><th scope=col>&lt;dbl&gt;</th><th scope=col>&lt;int&gt;</th><th scope=col>&lt;dbl&gt;</th></tr>\n",
       "</thead>\n",
       "<tbody>\n",
       "\t<tr><th scope=row>1</th><td>1986-03-13</td><td>0.088542</td><td>0.101563</td><td>0.088542</td><td>0.097222</td><td>0.062549</td><td>1031788800</td><td>         NA</td></tr>\n",
       "\t<tr><th scope=row>2</th><td>1986-03-14</td><td>0.097222</td><td>0.102431</td><td>0.097222</td><td>0.100694</td><td>0.064783</td><td> 308160000</td><td> 0.03508919</td></tr>\n",
       "\t<tr><th scope=row>3</th><td>1986-03-17</td><td>0.100694</td><td>0.103299</td><td>0.100694</td><td>0.102431</td><td>0.065899</td><td> 133171200</td><td> 0.01710319</td></tr>\n",
       "\t<tr><th scope=row>4</th><td>1986-03-18</td><td>0.102431</td><td>0.103299</td><td>0.098958</td><td>0.099826</td><td>0.064224</td><td>  67766400</td><td>-0.02576073</td></tr>\n",
       "\t<tr><th scope=row>5</th><td>1986-03-19</td><td>0.099826</td><td>0.100694</td><td>0.097222</td><td>0.098090</td><td>0.063107</td><td>  47894400</td><td>-0.01754325</td></tr>\n",
       "\t<tr><th scope=row>6</th><td>1986-03-20</td><td>0.098090</td><td>0.098090</td><td>0.094618</td><td>0.095486</td><td>0.061432</td><td>  58435200</td><td>-0.02690578</td></tr>\n",
       "</tbody>\n",
       "</table>\n"
      ],
      "text/latex": [
       "A data.frame: 6 × 8\n",
       "\\begin{tabular}{r|llllllll}\n",
       "  & date & msftOpen & msftHigh & msftLow & msftClose & msftAdjClose & msftVolume & logr\\\\\n",
       "  & <fct> & <dbl> & <dbl> & <dbl> & <dbl> & <dbl> & <int> & <dbl>\\\\\n",
       "\\hline\n",
       "\t1 & 1986-03-13 & 0.088542 & 0.101563 & 0.088542 & 0.097222 & 0.062549 & 1031788800 &          NA\\\\\n",
       "\t2 & 1986-03-14 & 0.097222 & 0.102431 & 0.097222 & 0.100694 & 0.064783 &  308160000 &  0.03508919\\\\\n",
       "\t3 & 1986-03-17 & 0.100694 & 0.103299 & 0.100694 & 0.102431 & 0.065899 &  133171200 &  0.01710319\\\\\n",
       "\t4 & 1986-03-18 & 0.102431 & 0.103299 & 0.098958 & 0.099826 & 0.064224 &   67766400 & -0.02576073\\\\\n",
       "\t5 & 1986-03-19 & 0.099826 & 0.100694 & 0.097222 & 0.098090 & 0.063107 &   47894400 & -0.01754325\\\\\n",
       "\t6 & 1986-03-20 & 0.098090 & 0.098090 & 0.094618 & 0.095486 & 0.061432 &   58435200 & -0.02690578\\\\\n",
       "\\end{tabular}\n"
      ],
      "text/markdown": [
       "\n",
       "A data.frame: 6 × 8\n",
       "\n",
       "| <!--/--> | date &lt;fct&gt; | msftOpen &lt;dbl&gt; | msftHigh &lt;dbl&gt; | msftLow &lt;dbl&gt; | msftClose &lt;dbl&gt; | msftAdjClose &lt;dbl&gt; | msftVolume &lt;int&gt; | logr &lt;dbl&gt; |\n",
       "|---|---|---|---|---|---|---|---|---|\n",
       "| 1 | 1986-03-13 | 0.088542 | 0.101563 | 0.088542 | 0.097222 | 0.062549 | 1031788800 |          NA |\n",
       "| 2 | 1986-03-14 | 0.097222 | 0.102431 | 0.097222 | 0.100694 | 0.064783 |  308160000 |  0.03508919 |\n",
       "| 3 | 1986-03-17 | 0.100694 | 0.103299 | 0.100694 | 0.102431 | 0.065899 |  133171200 |  0.01710319 |\n",
       "| 4 | 1986-03-18 | 0.102431 | 0.103299 | 0.098958 | 0.099826 | 0.064224 |   67766400 | -0.02576073 |\n",
       "| 5 | 1986-03-19 | 0.099826 | 0.100694 | 0.097222 | 0.098090 | 0.063107 |   47894400 | -0.01754325 |\n",
       "| 6 | 1986-03-20 | 0.098090 | 0.098090 | 0.094618 | 0.095486 | 0.061432 |   58435200 | -0.02690578 |\n",
       "\n"
      ],
      "text/plain": [
       "  date       msftOpen msftHigh msftLow  msftClose msftAdjClose msftVolume\n",
       "1 1986-03-13 0.088542 0.101563 0.088542 0.097222  0.062549     1031788800\n",
       "2 1986-03-14 0.097222 0.102431 0.097222 0.100694  0.064783      308160000\n",
       "3 1986-03-17 0.100694 0.103299 0.100694 0.102431  0.065899      133171200\n",
       "4 1986-03-18 0.102431 0.103299 0.098958 0.099826  0.064224       67766400\n",
       "5 1986-03-19 0.099826 0.100694 0.097222 0.098090  0.063107       47894400\n",
       "6 1986-03-20 0.098090 0.098090 0.094618 0.095486  0.061432       58435200\n",
       "  logr       \n",
       "1          NA\n",
       "2  0.03508919\n",
       "3  0.01710319\n",
       "4 -0.02576073\n",
       "5 -0.01754325\n",
       "6 -0.02690578"
      ]
     },
     "metadata": {},
     "output_type": "display_data"
    },
    {
     "data": {
      "image/png": "[encoded data removed]",
      "text/plain": [
       "plot without title"
      ]
     },
     "metadata": {
      "image/png": {
       "height": 420,
       "width": 420
      },
      "text/plain": {
       "height": 420,
       "width": 420
      }
     },
     "output_type": "display_data"
    }
   ],
   "source": [
    "msft$logr <- c(NA, log(msft$msftClose[2:nrow(msft)]/msft$msftClose[1:(nrow(msft)-1)]));\n",
    "library(MASS);\n",
    "truehist(msft$logr);\n",
    "head(msft);"
   ]
  },
  {
   "cell_type": "code",
   "execution_count": 161,
   "metadata": {},
   "outputs": [],
   "source": [
    "getFutureReturn <- function(x, d) {\n",
    "    rs <- c();\n",
    "    for(i in 1:length(x)) {\n",
    "        if((i+2+d)>length(x)) {\n",
    "            rs <- c(rs, NA);\n",
    "        }else{\n",
    "            # get data on (t+1), enter position at (t+2)\n",
    "            rs <- c(rs, sum(x[(i+3):(i+2+d)]));\n",
    "        }\n",
    "    }\n",
    "    return(rs)\n",
    "}"
   ]
  },
  {
   "cell_type": "code",
   "execution_count": 162,
   "metadata": {},
   "outputs": [
    {
     "data": {
      "text/html": [
       "<table>\n",
       "<caption>A data.frame: 6 × 11</caption>\n",
       "<thead>\n",
       "\t<tr><th></th><th scope=col>date</th><th scope=col>msftOpen</th><th scope=col>msftHigh</th><th scope=col>msftLow</th><th scope=col>msftClose</th><th scope=col>msftAdjClose</th><th scope=col>msftVolume</th><th scope=col>logr</th><th scope=col>log10r</th><th scope=col>log20r</th><th scope=col>log30r</th></tr>\n",
       "\t<tr><th></th><th scope=col>&lt;fct&gt;</th><th scope=col>&lt;dbl&gt;</th><th scope=col>&lt;dbl&gt;</th><th scope=col>&lt;dbl&gt;</th><th scope=col>&lt;dbl&gt;</th><th scope=col>&lt;dbl&gt;</th><th scope=col>&lt;int&gt;</th><th scope=col>&lt;dbl&gt;</th><th scope=col>&lt;dbl&gt;</th><th scope=col>&lt;dbl&gt;</th><th scope=col>&lt;dbl&gt;</th></tr>\n",
       "</thead>\n",
       "<tbody>\n",
       "\t<tr><th scope=row>1</th><td>1986-03-13</td><td>0.088542</td><td>0.101563</td><td>0.088542</td><td>0.097222</td><td>0.062549</td><td>1031788800</td><td>         NA</td><td>-0.079341668</td><td>-0.01710319</td><td>0.1121101</td></tr>\n",
       "\t<tr><th scope=row>2</th><td>1986-03-14</td><td>0.097222</td><td>0.102431</td><td>0.097222</td><td>0.100694</td><td>0.064783</td><td> 308160000</td><td> 0.03508919</td><td>-0.044449031</td><td> 0.04256671</td><td>0.1148827</td></tr>\n",
       "\t<tr><th scope=row>3</th><td>1986-03-17</td><td>0.100694</td><td>0.103299</td><td>0.100694</td><td>0.102431</td><td>0.065899</td><td> 133171200</td><td> 0.01710319</td><td>-0.017856515</td><td> 0.06840820</td><td>0.1168016</td></tr>\n",
       "\t<tr><th scope=row>4</th><td>1986-03-18</td><td>0.102431</td><td>0.103299</td><td>0.098958</td><td>0.099826</td><td>0.064224</td><td>  67766400</td><td>-0.02576073</td><td> 0.009049269</td><td> 0.06169966</td><td>0.1437074</td></tr>\n",
       "\t<tr><th scope=row>5</th><td>1986-03-19</td><td>0.099826</td><td>0.100694</td><td>0.097222</td><td>0.098090</td><td>0.063107</td><td>  47894400</td><td>-0.01754325</td><td> 0.018517862</td><td> 0.08934943</td><td>0.1634525</td></tr>\n",
       "\t<tr><th scope=row>6</th><td>1986-03-20</td><td>0.098090</td><td>0.098090</td><td>0.094618</td><td>0.095486</td><td>0.061432</td><td>  58435200</td><td>-0.02690578</td><td> 0.056085841</td><td> 0.10053487</td><td>0.1997932</td></tr>\n",
       "</tbody>\n",
       "</table>\n"
      ],
      "text/latex": [
       "A data.frame: 6 × 11\n",
       "\\begin{tabular}{r|lllllllllll}\n",
       "  & date & msftOpen & msftHigh & msftLow & msftClose & msftAdjClose & msftVolume & logr & log10r & log20r & log30r\\\\\n",
       "  & <fct> & <dbl> & <dbl> & <dbl> & <dbl> & <dbl> & <int> & <dbl> & <dbl> & <dbl> & <dbl>\\\\\n",
       "\\hline\n",
       "\t1 & 1986-03-13 & 0.088542 & 0.101563 & 0.088542 & 0.097222 & 0.062549 & 1031788800 &          NA & -0.079341668 & -0.01710319 & 0.1121101\\\\\n",
       "\t2 & 1986-03-14 & 0.097222 & 0.102431 & 0.097222 & 0.100694 & 0.064783 &  308160000 &  0.03508919 & -0.044449031 &  0.04256671 & 0.1148827\\\\\n",
       "\t3 & 1986-03-17 & 0.100694 & 0.103299 & 0.100694 & 0.102431 & 0.065899 &  133171200 &  0.01710319 & -0.017856515 &  0.06840820 & 0.1168016\\\\\n",
       "\t4 & 1986-03-18 & 0.102431 & 0.103299 & 0.098958 & 0.099826 & 0.064224 &   67766400 & -0.02576073 &  0.009049269 &  0.06169966 & 0.1437074\\\\\n",
       "\t5 & 1986-03-19 & 0.099826 & 0.100694 & 0.097222 & 0.098090 & 0.063107 &   47894400 & -0.01754325 &  0.018517862 &  0.08934943 & 0.1634525\\\\\n",
       "\t6 & 1986-03-20 & 0.098090 & 0.098090 & 0.094618 & 0.095486 & 0.061432 &   58435200 & -0.02690578 &  0.056085841 &  0.10053487 & 0.1997932\\\\\n",
       "\\end{tabular}\n"
      ],
      "text/markdown": [
       "\n",
       "A data.frame: 6 × 11\n",
       "\n",
       "| <!--/--> | date &lt;fct&gt; | msftOpen &lt;dbl&gt; | msftHigh &lt;dbl&gt; | msftLow &lt;dbl&gt; | msftClose &lt;dbl&gt; | msftAdjClose &lt;dbl&gt; | msftVolume &lt;int&gt; | logr &lt;dbl&gt; | log10r &lt;dbl&gt; | log20r &lt;dbl&gt; | log30r &lt;dbl&gt; |\n",
       "|---|---|---|---|---|---|---|---|---|---|---|---|\n",
       "| 1 | 1986-03-13 | 0.088542 | 0.101563 | 0.088542 | 0.097222 | 0.062549 | 1031788800 |          NA | -0.079341668 | -0.01710319 | 0.1121101 |\n",
       "| 2 | 1986-03-14 | 0.097222 | 0.102431 | 0.097222 | 0.100694 | 0.064783 |  308160000 |  0.03508919 | -0.044449031 |  0.04256671 | 0.1148827 |\n",
       "| 3 | 1986-03-17 | 0.100694 | 0.103299 | 0.100694 | 0.102431 | 0.065899 |  133171200 |  0.01710319 | -0.017856515 |  0.06840820 | 0.1168016 |\n",
       "| 4 | 1986-03-18 | 0.102431 | 0.103299 | 0.098958 | 0.099826 | 0.064224 |   67766400 | -0.02576073 |  0.009049269 |  0.06169966 | 0.1437074 |\n",
       "| 5 | 1986-03-19 | 0.099826 | 0.100694 | 0.097222 | 0.098090 | 0.063107 |   47894400 | -0.01754325 |  0.018517862 |  0.08934943 | 0.1634525 |\n",
       "| 6 | 1986-03-20 | 0.098090 | 0.098090 | 0.094618 | 0.095486 | 0.061432 |   58435200 | -0.02690578 |  0.056085841 |  0.10053487 | 0.1997932 |\n",
       "\n"
      ],
      "text/plain": [
       "  date       msftOpen msftHigh msftLow  msftClose msftAdjClose msftVolume\n",
       "1 1986-03-13 0.088542 0.101563 0.088542 0.097222  0.062549     1031788800\n",
       "2 1986-03-14 0.097222 0.102431 0.097222 0.100694  0.064783      308160000\n",
       "3 1986-03-17 0.100694 0.103299 0.100694 0.102431  0.065899      133171200\n",
       "4 1986-03-18 0.102431 0.103299 0.098958 0.099826  0.064224       67766400\n",
       "5 1986-03-19 0.099826 0.100694 0.097222 0.098090  0.063107       47894400\n",
       "6 1986-03-20 0.098090 0.098090 0.094618 0.095486  0.061432       58435200\n",
       "  logr        log10r       log20r      log30r   \n",
       "1          NA -0.079341668 -0.01710319 0.1121101\n",
       "2  0.03508919 -0.044449031  0.04256671 0.1148827\n",
       "3  0.01710319 -0.017856515  0.06840820 0.1168016\n",
       "4 -0.02576073  0.009049269  0.06169966 0.1437074\n",
       "5 -0.01754325  0.018517862  0.08934943 0.1634525\n",
       "6 -0.02690578  0.056085841  0.10053487 0.1997932"
      ]
     },
     "metadata": {},
     "output_type": "display_data"
    }
   ],
   "source": [
    "msft$log10r <- getFutureReturn(msft$logr, 10);\n",
    "msft$log20r <- getFutureReturn(msft$logr, 20);\n",
    "msft$log30r <- getFutureReturn(msft$logr, 30);\n",
    "\n",
    "head(msft)"
   ]
  },
  {
   "cell_type": "code",
   "execution_count": 163,
   "metadata": {},
   "outputs": [
    {
     "data": {
      "text/plain": [
       "     date               index           nav          outstanding       \n",
       " Length:3935        Min.   :1095   Min.   : 68.24   Min.   : 74100000  \n",
       " Class :character   1st Qu.:1941   1st Qu.:123.11   1st Qu.:133250000  \n",
       " Mode  :character   Median :2366   Median :144.86   Median :213000000  \n",
       "                    Mean   :3022   Mean   :170.34   Mean   :272192427  \n",
       "                    3rd Qu.:3886   3rd Qu.:210.50   3rd Qu.:340675000  \n",
       "                    Max.   :6571   Max.   :324.31   Max.   :639000000  \n",
       "      open             high             low             close       \n",
       " Min.   : 68.16   Min.   : 70.13   Min.   : 67.22   Min.   : 68.19  \n",
       " 1st Qu.:123.33   1st Qu.:123.83   1st Qu.:122.58   1st Qu.:123.14  \n",
       " Median :145.00   Median :145.62   Median :144.15   Median :144.88  \n",
       " Mean   :170.33   Mean   :171.17   Mean   :169.38   Mean   :170.34  \n",
       " 3rd Qu.:210.57   3rd Qu.:211.33   3rd Qu.:209.72   3rd Qu.:210.56  \n",
       " Max.   :325.19   Max.   :325.19   Max.   :323.71   Max.   :324.32  \n",
       "    adjClose          volume            doutPct            dclosePct        \n",
       " Min.   : 54.38   Min.   :  119600   Min.   :-0.140937   Min.   :-0.246045  \n",
       " 1st Qu.: 96.44   1st Qu.: 2035500   1st Qu.:-0.003746   1st Qu.:-0.010168  \n",
       " Median :117.28   Median : 3106700   Median : 0.004686   Median : 0.006234  \n",
       " Mean   :149.60   Mean   : 3505134   Mean   : 0.005695   Mean   : 0.003174  \n",
       " 3rd Qu.:192.20   3rd Qu.: 4501350   3rd Qu.: 0.014508   3rd Qu.: 0.019792  \n",
       " Max.   :324.32   Max.   :38748500   Max.   : 0.238938   Max.   : 0.217774  \n",
       "     volPct              dev                msftOpen         msftHigh     \n",
       " Min.   :0.001261   Min.   :-1.051e-02   Min.   : 15.20   Min.   : 15.62  \n",
       " 1st Qu.:0.007077   1st Qu.:-2.815e-04   1st Qu.: 26.81   1st Qu.: 27.06  \n",
       " Median :0.011355   Median : 3.464e-05   Median : 30.21   Median : 30.50  \n",
       " Mean   :0.014851   Mean   : 1.973e-05   Mean   : 45.55   Mean   : 45.94  \n",
       " 3rd Qu.:0.018165   3rd Qu.: 3.056e-04   3rd Qu.: 51.98   3rd Qu.: 52.44  \n",
       " Max.   :0.137114   Max.   : 1.508e-02   Max.   :159.45   Max.   :159.55  \n",
       "    msftLow         msftClose       msftAdjClose      msftVolume       \n",
       " Min.   : 14.87   Min.   : 15.15   Min.   : 11.73   Min.   :  7425600  \n",
       " 1st Qu.: 26.62   1st Qu.: 26.84   1st Qu.: 20.27   1st Qu.: 29135150  \n",
       " Median : 30.01   Median : 30.21   Median : 24.34   Median : 45451500  \n",
       " Mean   : 45.14   Mean   : 45.56   Mean   : 40.62   Mean   : 50206031  \n",
       " 3rd Qu.: 51.45   3rd Qu.: 52.05   3rd Qu.: 48.26   3rd Qu.: 62944050  \n",
       " Max.   :158.22   Max.   :158.96   Max.   :158.96   Max.   :591052200  \n",
       "      logr                log10r              log20r             log30r        \n",
       " Min.   :-0.1245784   Min.   :-0.242490   Min.   :-0.26059   Min.   :-0.27160  \n",
       " 1st Qu.:-0.0069161   1st Qu.:-0.017261   1st Qu.:-0.02478   1st Qu.:-0.03107  \n",
       " Median : 0.0003559   Median : 0.006873   Median : 0.01407   Median : 0.01958  \n",
       " Mean   : 0.0004585   Mean   : 0.004648   Mean   : 0.00933   Mean   : 0.01408  \n",
       " 3rd Qu.: 0.0080299   3rd Qu.: 0.030472   3rd Qu.: 0.04585   3rd Qu.: 0.06061  \n",
       " Max.   : 0.1706255   Max.   : 0.205690   Max.   : 0.23370   Max.   : 0.26545  "
      ]
     },
     "metadata": {},
     "output_type": "display_data"
    },
    {
     "data": {
      "text/html": [
       "3935"
      ],
      "text/latex": [
       "3935"
      ],
      "text/markdown": [
       "3935"
      ],
      "text/plain": [
       "[1] 3935"
      ]
     },
     "metadata": {},
     "output_type": "display_data"
    }
   ],
   "source": [
    "allData  <- merge(ivv, msft, by = 'date');\n",
    "allData <- allData[1000:(nrow(allData)-32),]\n",
    "summary(allData);\n",
    "nrow(allData)"
   ]
  },
  {
   "cell_type": "code",
   "execution_count": 164,
   "metadata": {},
   "outputs": [
    {
     "name": "stdout",
     "output_type": "stream",
     "text": [
      "[1] \"10 day return:\"\n",
      "       index          nav  outstanding         open         high          low \n",
      " 0.094195699  0.088587864  0.106039317  0.088419738  0.088222671  0.089346510 \n",
      "       close     adjClose       volume      doutPct    dclosePct       volPct \n",
      " 0.088595036  0.094144905  0.002415117 -0.050760845  0.042830983 -0.086805187 \n",
      "         dev     msftOpen     msftHigh      msftLow    msftClose msftAdjClose \n",
      " 0.003148874  0.074185170  0.073703726  0.074552929  0.074124733  0.079668699 \n",
      "  msftVolume         logr       log10r       log20r       log30r \n",
      "-0.144151221 -0.014322389  1.000000000  0.690271572  0.585648408 \n",
      "[1] \"20 day return:\"\n",
      "       index          nav  outstanding         open         high          low \n",
      "  0.13841600   0.12978066   0.15794025   0.12943992   0.12910767   0.13048249 \n",
      "       close     adjClose       volume      doutPct    dclosePct       volPct \n",
      "  0.12974957   0.13830338   0.02022596  -0.10463420   0.07606634  -0.10725500 \n",
      "         dev     msftOpen     msftHigh      msftLow    msftClose msftAdjClose \n",
      " -0.01263161   0.11252726   0.11188495   0.11305887   0.11250809   0.12048912 \n",
      "  msftVolume         logr       log10r       log20r       log30r \n",
      " -0.18017204  -0.01415984   0.69027157   1.00000000   0.80940084 \n",
      "[1] \"30 day return:\"\n",
      "       index          nav  outstanding         open         high          low \n",
      " 0.176585724  0.165231572  0.203346011  0.164748559  0.164441951  0.165805538 \n",
      "       close     adjClose       volume      doutPct    dclosePct       volPct \n",
      " 0.165154061  0.176404632  0.018142740 -0.099804362  0.080519839 -0.131842206 \n",
      "         dev     msftOpen     msftHigh      msftLow    msftClose msftAdjClose \n",
      "-0.039910287  0.149092679  0.148476692  0.149804867  0.149145061  0.159249522 \n",
      "  msftVolume         logr       log10r       log20r       log30r \n",
      "-0.178918143 -0.004373689  0.585648408  0.809400839  1.000000000 \n"
     ]
    }
   ],
   "source": [
    "corMtx <- cor(allData[,2:ncol(allData)]);\n",
    "print('10 day return:')\n",
    "print(corMtx[which(rownames(corMtx) == 'log10r'),]);\n",
    "print('20 day return:')\n",
    "print(corMtx[which(rownames(corMtx) == 'log20r'),]);\n",
    "print('30 day return:')\n",
    "print(corMtx[which(rownames(corMtx) == 'log30r'),]);\n"
   ]
  },
  {
   "cell_type": "code",
   "execution_count": 243,
   "metadata": {},
   "outputs": [],
   "source": [
    "trainData <- allData[1:3735,];\n",
    "testData <- allData[3736:nrow(allData),];\n",
    "predictors <- c('doutPct', 'dclosePct', 'volPct', 'dev', 'volume');\n",
    "# predictors <- setdiff(colnames(allData), c('date', 'logr', 'log10r', 'log20r', 'log30r'));\n",
    "target <- 'log10r';"
   ]
  },
  {
   "cell_type": "code",
   "execution_count": 259,
   "metadata": {},
   "outputs": [
    {
     "data": {
      "text/html": [
       "<dl class=dl-horizontal>\n",
       "\t<dt>doutPct</dt>\n",
       "\t\t<dd>0.802019018226878</dd>\n",
       "\t<dt>dclosePct</dt>\n",
       "\t\t<dd>0.801784337976788</dd>\n",
       "\t<dt>volPct</dt>\n",
       "\t\t<dd>0.783216852109287</dd>\n",
       "\t<dt>dev</dt>\n",
       "\t\t<dd>0.745420832318284</dd>\n",
       "\t<dt>volume</dt>\n",
       "\t\t<dd>0.700749746276138</dd>\n",
       "</dl>\n"
      ],
      "text/latex": [
       "\\begin{description*}\n",
       "\\item[doutPct] 0.802019018226878\n",
       "\\item[dclosePct] 0.801784337976788\n",
       "\\item[volPct] 0.783216852109287\n",
       "\\item[dev] 0.745420832318284\n",
       "\\item[volume] 0.700749746276138\n",
       "\\end{description*}\n"
      ],
      "text/markdown": [
       "doutPct\n",
       ":   0.802019018226878dclosePct\n",
       ":   0.801784337976788volPct\n",
       ":   0.783216852109287dev\n",
       ":   0.745420832318284volume\n",
       ":   0.700749746276138\n",
       "\n"
      ],
      "text/plain": [
       "  doutPct dclosePct    volPct       dev    volume \n",
       "0.8020190 0.8017843 0.7832169 0.7454208 0.7007497 "
      ]
     },
     "metadata": {},
     "output_type": "display_data"
    }
   ],
   "source": [
    "library(ranger);\n",
    "trainRf <- function(data, target, predictors) {\n",
    "    fmla <- as.formula(paste(target, '~', paste(predictors, sep = '', collapse = '+'), sep = ''));\n",
    "    rf <- ranger(formula = fmla, data = data, num.trees = 100, sample.fraction = 0.6, importance = 'impurity');\n",
    "  return(rf);\n",
    "}\n",
    "\n",
    "rf <- trainRf(trainData, target, predictors);\n",
    "importance(rf)"
   ]
  },
  {
   "cell_type": "code",
   "execution_count": 260,
   "metadata": {},
   "outputs": [],
   "source": [
    "medPrediction <- function(rf, data) {\n",
    "    return(apply(predict(rf,data, predict.all = TRUE)$predictions, 1, median));\n",
    "}\n",
    "trainData$rf <- medPrediction(rf, trainData[,predictors]);\n",
    "testData$rf <- medPrediction(rf, testData[,predictors])"
   ]
  },
  {
   "cell_type": "code",
   "execution_count": 261,
   "metadata": {},
   "outputs": [
    {
     "data": {
      "text/html": [
       "<table>\n",
       "<caption>A matrix: 8 × 1 of type dbl</caption>\n",
       "<tbody>\n",
       "\t<tr><th scope=row>meanError</th><td>-0.0007555393</td></tr>\n",
       "\t<tr><th scope=row>medianError</th><td> 0.0000000000</td></tr>\n",
       "\t<tr><th scope=row>meanAbsError</th><td> 0.0132752232</td></tr>\n",
       "\t<tr><th scope=row>medianAbsError</th><td> 0.0071263452</td></tr>\n",
       "\t<tr><th scope=row>mse</th><td> 0.0004933238</td></tr>\n",
       "\t<tr><th scope=row>sd</th><td> 0.0222010117</td></tr>\n",
       "\t<tr><th scope=row>cor</th><td> 0.9335987133</td></tr>\n",
       "\t<tr><th scope=row>rsq</th><td> 0.7461340015</td></tr>\n",
       "</tbody>\n",
       "</table>\n"
      ],
      "text/latex": [
       "A matrix: 8 × 1 of type dbl\n",
       "\\begin{tabular}{r|l}\n",
       "\tmeanError & -0.0007555393\\\\\n",
       "\tmedianError &  0.0000000000\\\\\n",
       "\tmeanAbsError &  0.0132752232\\\\\n",
       "\tmedianAbsError &  0.0071263452\\\\\n",
       "\tmse &  0.0004933238\\\\\n",
       "\tsd &  0.0222010117\\\\\n",
       "\tcor &  0.9335987133\\\\\n",
       "\trsq &  0.7461340015\\\\\n",
       "\\end{tabular}\n"
      ],
      "text/markdown": [
       "\n",
       "A matrix: 8 × 1 of type dbl\n",
       "\n",
       "| meanError | -0.0007555393 |\n",
       "| medianError |  0.0000000000 |\n",
       "| meanAbsError |  0.0132752232 |\n",
       "| medianAbsError |  0.0071263452 |\n",
       "| mse |  0.0004933238 |\n",
       "| sd |  0.0222010117 |\n",
       "| cor |  0.9335987133 |\n",
       "| rsq |  0.7461340015 |\n",
       "\n"
      ],
      "text/plain": [
       "               [,1]         \n",
       "meanError      -0.0007555393\n",
       "medianError     0.0000000000\n",
       "meanAbsError    0.0132752232\n",
       "medianAbsError  0.0071263452\n",
       "mse             0.0004933238\n",
       "sd              0.0222010117\n",
       "cor             0.9335987133\n",
       "rsq             0.7461340015"
      ]
     },
     "metadata": {},
     "output_type": "display_data"
    },
    {
     "data": {
      "text/html": [
       "<table>\n",
       "<caption>A matrix: 8 × 1 of type dbl</caption>\n",
       "<tbody>\n",
       "\t<tr><th scope=row>meanError</th><td> 0.0053952147</td></tr>\n",
       "\t<tr><th scope=row>medianError</th><td> 0.0058290970</td></tr>\n",
       "\t<tr><th scope=row>meanAbsError</th><td> 0.0220087765</td></tr>\n",
       "\t<tr><th scope=row>medianAbsError</th><td> 0.0204389857</td></tr>\n",
       "\t<tr><th scope=row>mse</th><td> 0.0007682435</td></tr>\n",
       "\t<tr><th scope=row>sd</th><td> 0.0272552643</td></tr>\n",
       "\t<tr><th scope=row>cor</th><td> 0.0654182792</td></tr>\n",
       "\t<tr><th scope=row>rsq</th><td>-0.0998959000</td></tr>\n",
       "</tbody>\n",
       "</table>\n"
      ],
      "text/latex": [
       "A matrix: 8 × 1 of type dbl\n",
       "\\begin{tabular}{r|l}\n",
       "\tmeanError &  0.0053952147\\\\\n",
       "\tmedianError &  0.0058290970\\\\\n",
       "\tmeanAbsError &  0.0220087765\\\\\n",
       "\tmedianAbsError &  0.0204389857\\\\\n",
       "\tmse &  0.0007682435\\\\\n",
       "\tsd &  0.0272552643\\\\\n",
       "\tcor &  0.0654182792\\\\\n",
       "\trsq & -0.0998959000\\\\\n",
       "\\end{tabular}\n"
      ],
      "text/markdown": [
       "\n",
       "A matrix: 8 × 1 of type dbl\n",
       "\n",
       "| meanError |  0.0053952147 |\n",
       "| medianError |  0.0058290970 |\n",
       "| meanAbsError |  0.0220087765 |\n",
       "| medianAbsError |  0.0204389857 |\n",
       "| mse |  0.0007682435 |\n",
       "| sd |  0.0272552643 |\n",
       "| cor |  0.0654182792 |\n",
       "| rsq | -0.0998959000 |\n",
       "\n"
      ],
      "text/plain": [
       "               [,1]         \n",
       "meanError       0.0053952147\n",
       "medianError     0.0058290970\n",
       "meanAbsError    0.0220087765\n",
       "medianAbsError  0.0204389857\n",
       "mse             0.0007682435\n",
       "sd              0.0272552643\n",
       "cor             0.0654182792\n",
       "rsq            -0.0998959000"
      ]
     },
     "metadata": {},
     "output_type": "display_data"
    }
   ],
   "source": [
    "evalPrediction <- function(x, y) {\n",
    "    return(t(data.frame(\n",
    "        meanError = mean(x-y),\n",
    "        medianError = median(x-y),\n",
    "        meanAbsError = mean(abs(x-y)),\n",
    "        medianAbsError = median(abs(x-y)),\n",
    "        mse = mean((x-y)^2),\n",
    "        sd = sd(x-y),\n",
    "        cor = cor(x,y),\n",
    "        rsq = 1 - sum((x-y)^2)/sum((x-mean(x))^2)\n",
    "        \n",
    "    )));\n",
    "}\n",
    "evalPrediction(trainData[,target],trainData$rf)\n",
    "evalPrediction(testData[,target],testData$rf)"
   ]
  }
 ],
 "metadata": {
  "kernelspec": {
   "display_name": "R",
   "language": "R",
   "name": "ir"
  },
  "language_info": {
   "codemirror_mode": "r",
   "file_extension": ".r",
   "mimetype": "text/x-r-source",
   "name": "R",
   "pygments_lexer": "r",
   "version": "3.6.2"
  }
 },
 "nbformat": 4,
 "nbformat_minor": 4
}
